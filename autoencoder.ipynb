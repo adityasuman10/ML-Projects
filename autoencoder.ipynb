{
  "nbformat": 4,
  "nbformat_minor": 0,
  "metadata": {
    "colab": {
      "provenance": []
    },
    "kernelspec": {
      "name": "python3",
      "display_name": "Python 3"
    },
    "language_info": {
      "name": "python"
    }
  },
  "cells": [
    {
      "cell_type": "code",
      "execution_count": 31,
      "metadata": {
        "id": "vi_gT3ancQNK"
      },
      "outputs": [],
      "source": [
        "import torch\n",
        "import torch.nn as nn\n",
        "import torch.optim as optim\n",
        "import torchvision\n",
        "from torchvision import transforms\n",
        "import matplotlib.pyplot as plt\n",
        "import os\n"
      ]
    },
    {
      "cell_type": "code",
      "source": [
        "\n",
        "latent_dim = 16\n",
        "lr = 0.1\n",
        "target_class = 1\n",
        "steps = 1000\n",
        "num_samples = 10\n",
        "noise_scale = 0.1\n",
        "ae_steps = 30\n",
        "cl_steps = 30"
      ],
      "metadata": {
        "id": "kW8jzz7HcXTW"
      },
      "execution_count": 30,
      "outputs": []
    },
    {
      "cell_type": "code",
      "source": [
        "class Autoencoder(nn.Module):\n",
        "    def __init__(self):\n",
        "        super(Autoencoder, self).__init__()\n",
        "        self.encoder = nn.Sequential(\n",
        "            nn.Linear(784, 256),\n",
        "            nn.ReLU(),\n",
        "            nn.Linear(256, latent_dim)\n",
        "        )\n",
        "        self.decoder = nn.Sequential(\n",
        "            nn.Linear(latent_dim, 256),\n",
        "            nn.ReLU(),\n",
        "            nn.Linear(256, 784),\n",
        "            nn.Sigmoid()\n",
        "        )\n",
        "\n",
        "    def forward(self, x):\n",
        "        x = x.view(-1, 784)\n",
        "        z = self.encoder(x)\n",
        "        return self.decoder(z)"
      ],
      "metadata": {
        "id": "Ld1dsr8UcXaN"
      },
      "execution_count": 32,
      "outputs": []
    },
    {
      "cell_type": "code",
      "source": [
        "class Classifier(nn.Module):\n",
        "    def __init__(self):\n",
        "        super(Classifier, self).__init__()\n",
        "        self.model = nn.Sequential(\n",
        "            nn.Linear(784, 512),\n",
        "            nn.ReLU(),\n",
        "            nn.Dropout(0.2),\n",
        "            nn.Linear(512, 10)\n",
        "        )\n",
        "\n",
        "    def forward(self, x):\n",
        "        x = x.view(-1, 784)\n",
        "        return self.model(x)"
      ],
      "metadata": {
        "id": "Yom6WFeucpoG"
      },
      "execution_count": 33,
      "outputs": []
    },
    {
      "cell_type": "code",
      "source": [
        "transform = transforms.Compose([transforms.ToTensor()])\n",
        "train_set = torchvision.datasets.MNIST(root='./data', train=True, download=True, transform=transform)\n",
        "train_loader = torch.utils.data.DataLoader(train_set, batch_size=128, shuffle=True)"
      ],
      "metadata": {
        "id": "_Fejc2AGcsQr"
      },
      "execution_count": 34,
      "outputs": []
    },
    {
      "cell_type": "code",
      "source": [
        "autoencoder = Autoencoder()\n",
        "classifier = Classifier()"
      ],
      "metadata": {
        "id": "bngXh10OcyTO"
      },
      "execution_count": 35,
      "outputs": []
    },
    {
      "cell_type": "code",
      "source": [
        "if os.path.exists('autoencoder.pth') and os.path.exists('classifier.pth'):\n",
        "\n",
        "    autoencoder.load_state_dict(torch.load('autoencoder.pth'))\n",
        "    classifier.load_state_dict(torch.load('classifier.pth'))\n",
        "    print(\"Models loaded from disk!\")\n",
        "else:\n",
        "\n",
        "    ae_optimizer = optim.Adam(autoencoder.parameters(), lr=0.001)\n",
        "    for epoch in range(ae_steps):\n",
        "        for images, _ in train_loader:\n",
        "            ae_optimizer.zero_grad()\n",
        "            reconstructions = autoencoder(images)\n",
        "            loss = nn.MSELoss()(reconstructions, images.view(-1, 784))\n",
        "            loss.backward()\n",
        "            ae_optimizer.step()\n",
        "        print(f\"AE Epoch {epoch+1}, Loss: {loss.item():.4f}\")\n",
        "\n",
        "\n",
        "    cls_optimizer = optim.Adam(classifier.parameters(), lr=0.001)\n",
        "    for epoch in range(cl_steps):\n",
        "        for images, labels in train_loader:\n",
        "            cls_optimizer.zero_grad()\n",
        "            outputs = classifier(images)\n",
        "            loss = nn.CrossEntropyLoss()(outputs, labels)\n",
        "            loss.backward()\n",
        "            cls_optimizer.step()\n",
        "        print(f\"Classifier Epoch {epoch+1}, Loss: {loss.item():.4f}\")\n",
        "\n",
        "    torch.save(autoencoder.state_dict(), 'autoencoder.pth')\n",
        "    torch.save(classifier.state_dict(), 'classifier.pth')\n",
        "    print(\"Models saved to disk!\")\n",
        "\n",
        "\n",
        "for model in [autoencoder, classifier]:\n",
        "    for param in model.parameters():\n",
        "        param.requires_grad = False\n",
        "\n",
        "\n",
        "def generate_digit(target_class, noise_scale=0.1):\n",
        "\n",
        "    z = torch.randn(1, latent_dim) + noise_scale * torch.randn(1, latent_dim)\n",
        "    z.requires_grad_(True)\n",
        "\n",
        "    optimizer = optim.Adam([z], lr=lr)\n",
        "\n",
        "    for step in range(steps):\n",
        "        optimizer.zero_grad()\n",
        "\n",
        "\n",
        "        generated = autoencoder.decoder(z)\n",
        "        logits = classifier(generated)\n",
        "        loss = nn.CrossEntropyLoss()(logits, torch.tensor([target_class]))\n",
        "        loss.backward()\n",
        "        optimizer.step()\n",
        "\n",
        "    with torch.no_grad():\n",
        "        generated_img = autoencoder.decoder(z).view(28, 28).numpy()\n",
        "\n",
        "    return generated_img"
      ],
      "metadata": {
        "colab": {
          "base_uri": "https://localhost:8080/"
        },
        "id": "x7i4YRlsc4V-",
        "outputId": "28aa4366-35b1-4810-eeeb-3b938315a281"
      },
      "execution_count": 36,
      "outputs": [
        {
          "output_type": "stream",
          "name": "stdout",
          "text": [
            "Models loaded from disk!\n"
          ]
        }
      ]
    },
    {
      "cell_type": "code",
      "source": [
        "generated_images = []\n",
        "for i in range(num_samples):\n",
        "    print(f\"Generating sample {i+1}/{num_samples}...\")\n",
        "    img = generate_digit(target_class, noise_scale=noise_scale)\n",
        "    generated_images.append(img)"
      ],
      "metadata": {
        "colab": {
          "base_uri": "https://localhost:8080/"
        },
        "id": "MgyOjwpQdCxI",
        "outputId": "92783f75-2eb1-41ba-8df1-afabadcc2a9f"
      },
      "execution_count": 37,
      "outputs": [
        {
          "output_type": "stream",
          "name": "stdout",
          "text": [
            "Generating sample 1/10...\n",
            "Generating sample 2/10...\n",
            "Generating sample 3/10...\n",
            "Generating sample 4/10...\n",
            "Generating sample 5/10...\n",
            "Generating sample 6/10...\n",
            "Generating sample 7/10...\n",
            "Generating sample 8/10...\n",
            "Generating sample 9/10...\n",
            "Generating sample 10/10...\n"
          ]
        }
      ]
    },
    {
      "cell_type": "code",
      "source": [
        "plt.figure(figsize=(20, 4))\n",
        "for i, img in enumerate(generated_images):\n",
        "    plt.subplot(1, num_samples, i+1)\n",
        "    plt.imshow(img, cmap='gray')\n",
        "    plt.title(f\"Sample {i+1}\")\n",
        "    plt.axis('off')\n",
        "plt.suptitle(f\"Generated Variations of Digit {target_class}\")\n",
        "plt.show()"
      ],
      "metadata": {
        "colab": {
          "base_uri": "https://localhost:8080/",
          "height": 296
        },
        "id": "Q8JjYylqdDoa",
        "outputId": "e99af73d-24cd-4147-fe06-091b2585d956"
      },
      "execution_count": 38,
      "outputs": [
        {
          "output_type": "display_data",
          "data": {
            "text/plain": [
              "<Figure size 2000x400 with 10 Axes>"
            ],
            "image/png": "[encoded data removed]"
          },
          "metadata": {}
        }
      ]
    }
  ]
}
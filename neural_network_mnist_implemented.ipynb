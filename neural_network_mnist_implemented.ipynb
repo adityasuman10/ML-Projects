{
  "nbformat": 4,
  "nbformat_minor": 0,
  "metadata": {
    "colab": {
      "provenance": []
    },
    "kernelspec": {
      "name": "python3",
      "display_name": "Python 3"
    },
    "language_info": {
      "name": "python"
    }
  },
  "cells": [
    {
      "cell_type": "code",
      "execution_count": 1,
      "metadata": {
        "id": "OPp99LzPlFP6"
      },
      "outputs": [],
      "source": [
        "import numpy as np\n",
        "import pandas as pd\n",
        "from matplotlib import pyplot as plt"
      ]
    },
    {
      "cell_type": "code",
      "source": [
        "from google.colab import files\n",
        "uploaded = files.upload()"
      ],
      "metadata": {
        "colab": {
          "base_uri": "https://localhost:8080/",
          "height": 73
        },
        "id": "yf8L1gDylb85",
        "outputId": "a059bc40-90bc-470d-964a-e96f0c68b626"
      },
      "execution_count": 2,
      "outputs": [
        {
          "output_type": "display_data",
          "data": {
            "text/plain": [
              "<IPython.core.display.HTML object>"
            ],
            "text/html": [
              "\n",
              "     <input type=\"file\" id=\"files-24e2ecbd-9dc9-400c-a4e0-17b0ba285d93\" name=\"files[]\" multiple disabled\n",
              "        style=\"border:none\" />\n",
              "     <output id=\"result-24e2ecbd-9dc9-400c-a4e0-17b0ba285d93\">\n",
              "      Upload widget is only available when the cell has been executed in the\n",
              "      current browser session. Please rerun this cell to enable.\n",
              "      </output>\n",
              "      <script>// Copyright 2017 Google LLC\n",
              "//\n",
              "// Licensed under the Apache License, Version 2.0 (the \"License\");\n",
              "// you may not use this file except in compliance with the License.\n",
              "// You may obtain a copy of the License at\n",
              "//\n",
              "//      http://www.apache.org/licenses/LICENSE-2.0\n",
              "//\n",
              "// Unless required by applicable law or agreed to in writing, software\n",
              "// distributed under the License is distributed on an \"AS IS\" BASIS,\n",
              "// WITHOUT WARRANTIES OR CONDITIONS OF ANY KIND, either express or implied.\n",
              "// See the License for the specific language governing permissions and\n",
              "// limitations under the License.\n",
              "\n",
              "/**\n",
              " * @fileoverview Helpers for google.colab Python module.\n",
              " */\n",
              "(function(scope) {\n",
              "function span(text, styleAttributes = {}) {\n",
              "  const element = document.createElement('span');\n",
              "  element.textContent = text;\n",
              "  for (const key of Object.keys(styleAttributes)) {\n",
              "    element.style[key] = styleAttributes[key];\n",
              "  }\n",
              "  return element;\n",
              "}\n",
              "\n",
              "// Max number of bytes which will be uploaded at a time.\n",
              "const MAX_PAYLOAD_SIZE = 100 * 1024;\n",
              "\n",
              "function _uploadFiles(inputId, outputId) {\n",
              "  const steps = uploadFilesStep(inputId, outputId);\n",
              "  const outputElement = document.getElementById(outputId);\n",
              "  // Cache steps on the outputElement to make it available for the next call\n",
              "  // to uploadFilesContinue from Python.\n",
              "  outputElement.steps = steps;\n",
              "\n",
              "  return _uploadFilesContinue(outputId);\n",
              "}\n",
              "\n",
              "// This is roughly an async generator (not supported in the browser yet),\n",
              "// where there are multiple asynchronous steps and the Python side is going\n",
              "// to poll for completion of each step.\n",
              "// This uses a Promise to block the python side on completion of each step,\n",
              "// then passes the result of the previous step as the input to the next step.\n",
              "function _uploadFilesContinue(outputId) {\n",
              "  const outputElement = document.getElementById(outputId);\n",
              "  const steps = outputElement.steps;\n",
              "\n",
              "  const next = steps.next(outputElement.lastPromiseValue);\n",
              "  return Promise.resolve(next.value.promise).then((value) => {\n",
              "    // Cache the last promise value to make it available to the next\n",
              "    // step of the generator.\n",
              "    outputElement.lastPromiseValue = value;\n",
              "    return next.value.response;\n",
              "  });\n",
              "}\n",
              "\n",
              "/**\n",
              " * Generator function which is called between each async step of the upload\n",
              " * process.\n",
              " * @param {string} inputId Element ID of the input file picker element.\n",
              " * @param {string} outputId Element ID of the output display.\n",
              " * @return {!Iterable<!Object>} Iterable of next steps.\n",
              " */\n",
              "function* uploadFilesStep(inputId, outputId) {\n",
              "  const inputElement = document.getElementById(inputId);\n",
              "  inputElement.disabled = false;\n",
              "\n",
              "  const outputElement = document.getElementById(outputId);\n",
              "  outputElement.innerHTML = '';\n",
              "\n",
              "  const pickedPromise = new Promise((resolve) => {\n",
              "    inputElement.addEventListener('change', (e) => {\n",
              "      resolve(e.target.files);\n",
              "    });\n",
              "  });\n",
              "\n",
              "  const cancel = document.createElement('button');\n",
              "  inputElement.parentElement.appendChild(cancel);\n",
              "  cancel.textContent = 'Cancel upload';\n",
              "  const cancelPromise = new Promise((resolve) => {\n",
              "    cancel.onclick = () => {\n",
              "      resolve(null);\n",
              "    };\n",
              "  });\n",
              "\n",
              "  // Wait for the user to pick the files.\n",
              "  const files = yield {\n",
              "    promise: Promise.race([pickedPromise, cancelPromise]),\n",
              "    response: {\n",
              "      action: 'starting',\n",
              "    }\n",
              "  };\n",
              "\n",
              "  cancel.remove();\n",
              "\n",
              "  // Disable the input element since further picks are not allowed.\n",
              "  inputElement.disabled = true;\n",
              "\n",
              "  if (!files) {\n",
              "    return {\n",
              "      response: {\n",
              "        action: 'complete',\n",
              "      }\n",
              "    };\n",
              "  }\n",
              "\n",
              "  for (const file of files) {\n",
              "    const li = document.createElement('li');\n",
              "    li.append(span(file.name, {fontWeight: 'bold'}));\n",
              "    li.append(span(\n",
              "        `(${file.type || 'n/a'}) - ${file.size} bytes, ` +\n",
              "        `last modified: ${\n",
              "            file.lastModifiedDate ? file.lastModifiedDate.toLocaleDateString() :\n",
              "                                    'n/a'} - `));\n",
              "    const percent = span('0% done');\n",
              "    li.appendChild(percent);\n",
              "\n",
              "    outputElement.appendChild(li);\n",
              "\n",
              "    const fileDataPromise = new Promise((resolve) => {\n",
              "      const reader = new FileReader();\n",
              "      reader.onload = (e) => {\n",
              "        resolve(e.target.result);\n",
              "      };\n",
              "      reader.readAsArrayBuffer(file);\n",
              "    });\n",
              "    // Wait for the data to be ready.\n",
              "    let fileData = yield {\n",
              "      promise: fileDataPromise,\n",
              "      response: {\n",
              "        action: 'continue',\n",
              "      }\n",
              "    };\n",
              "\n",
              "    // Use a chunked sending to avoid message size limits. See b/62115660.\n",
              "    let position = 0;\n",
              "    do {\n",
              "      const length = Math.min(fileData.byteLength - position, MAX_PAYLOAD_SIZE);\n",
              "      const chunk = new Uint8Array(fileData, position, length);\n",
              "      position += length;\n",
              "\n",
              "      const base64 = btoa(String.fromCharCode.apply(null, chunk));\n",
              "      yield {\n",
              "        response: {\n",
              "          action: 'append',\n",
              "          file: file.name,\n",
              "          data: base64,\n",
              "        },\n",
              "      };\n",
              "\n",
              "      let percentDone = fileData.byteLength === 0 ?\n",
              "          100 :\n",
              "          Math.round((position / fileData.byteLength) * 100);\n",
              "      percent.textContent = `${percentDone}% done`;\n",
              "\n",
              "    } while (position < fileData.byteLength);\n",
              "  }\n",
              "\n",
              "  // All done.\n",
              "  yield {\n",
              "    response: {\n",
              "      action: 'complete',\n",
              "    }\n",
              "  };\n",
              "}\n",
              "\n",
              "scope.google = scope.google || {};\n",
              "scope.google.colab = scope.google.colab || {};\n",
              "scope.google.colab._files = {\n",
              "  _uploadFiles,\n",
              "  _uploadFilesContinue,\n",
              "};\n",
              "})(self);\n",
              "</script> "
            ]
          },
          "metadata": {}
        },
        {
          "output_type": "stream",
          "name": "stdout",
          "text": [
            "Saving train.csv to train.csv\n"
          ]
        }
      ]
    },
    {
      "cell_type": "code",
      "source": [
        "data = pd.read_csv('train.csv')"
      ],
      "metadata": {
        "id": "dLln3K_Slnbe"
      },
      "execution_count": 3,
      "outputs": []
    },
    {
      "cell_type": "code",
      "source": [
        "\n",
        "data = np.array(data)\n",
        "m, n = data.shape\n",
        "np.random.shuffle(data)\n",
        "\n",
        "\n",
        "data_dev = data[0:1000].T\n",
        "Y_dev = data_dev[0]\n",
        "X_dev = data_dev[1:n]\n",
        "X_dev = X_dev / 255.\n",
        "\n",
        "data_train = data[1000:m].T\n",
        "Y_train = data_train[0]\n",
        "X_train = data_train[1:n]\n",
        "X_train = X_train / 255.\n",
        "_,m_train = X_train.shape"
      ],
      "metadata": {
        "id": "aoiP86nfnMBp"
      },
      "execution_count": 4,
      "outputs": []
    },
    {
      "cell_type": "code",
      "source": [
        "Y_train"
      ],
      "metadata": {
        "colab": {
          "base_uri": "https://localhost:8080/"
        },
        "id": "8JdLJLeKnSkb",
        "outputId": "5368967b-ddd7-46ed-88c9-eb02c7a11848"
      },
      "execution_count": 5,
      "outputs": [
        {
          "output_type": "execute_result",
          "data": {
            "text/plain": [
              "array([7, 0, 1, ..., 9, 7, 5])"
            ]
          },
          "metadata": {},
          "execution_count": 5
        }
      ]
    },
    {
      "cell_type": "code",
      "source": [
        "def init_params():\n",
        "    W1 = np.random.randn(128, 784) * 0.01\n",
        "    b1 = np.zeros((128, 1))\n",
        "    W2 = np.random.randn(10, 128) * 0.01\n",
        "    b2 = np.zeros((10, 1))\n",
        "    return W1, b1, W2, b2"
      ],
      "metadata": {
        "id": "oQHNLGuWnymq"
      },
      "execution_count": 6,
      "outputs": []
    },
    {
      "cell_type": "code",
      "source": [
        "def ReLU(Z):\n",
        "    return np.maximum(Z, 0)\n",
        "\n",
        "def softmax(Z):\n",
        "    A = np.exp(Z) / sum(np.exp(Z))\n",
        "    return A"
      ],
      "metadata": {
        "id": "rkKhVwtPnyr_"
      },
      "execution_count": 7,
      "outputs": []
    },
    {
      "cell_type": "code",
      "source": [
        "def forward_prop(W1, b1, W2, b2, X):\n",
        "    Z1 = W1.dot(X) + b1\n",
        "    A1 = ReLU(Z1)\n",
        "    Z2 = W2.dot(A1) + b2\n",
        "    A2 = softmax(Z2)\n",
        "    return Z1, A1, Z2, A2"
      ],
      "metadata": {
        "id": "jNNEr7HSn47K"
      },
      "execution_count": 8,
      "outputs": []
    },
    {
      "cell_type": "code",
      "source": [
        "def ReLU_deriv(Z):\n",
        "    return Z > 0\n",
        "\n",
        "def one_hot(Y):\n",
        "    one_hot_Y = np.zeros((Y.size, Y.max() + 1))\n",
        "    one_hot_Y[np.arange(Y.size), Y] = 1\n",
        "    one_hot_Y = one_hot_Y.T\n",
        "    return one_hot_Y\n",
        "\n",
        "def backward_prop(Z1, A1, Z2, A2, W1, W2, X, Y):\n",
        "    one_hot_Y = one_hot(Y)\n",
        "    dZ2 = A2 - one_hot_Y\n",
        "    dW2 = 1 / m * dZ2.dot(A1.T)\n",
        "    db2 = 1 / m * np.sum(dZ2, axis=1, keepdims=True)\n",
        "    dZ1 = W2.T.dot(dZ2) * ReLU_deriv(Z1)\n",
        "    dW1 = 1 / m * dZ1.dot(X.T)\n",
        "    db1 = 1 / m * np.sum(dZ1, axis=1, keepdims=True)\n",
        "    return dW1, db1, dW2, db2"
      ],
      "metadata": {
        "id": "Qi1g6BBxn7VY"
      },
      "execution_count": 9,
      "outputs": []
    },
    {
      "cell_type": "code",
      "source": [
        "def update_params(W1, b1, W2, b2, dW1, db1, dW2, db2, alpha):\n",
        "    W1 = W1 - alpha * dW1\n",
        "    b1 = b1 - alpha * db1\n",
        "    W2 = W2 - alpha * dW2\n",
        "    b2 = b2 - alpha * db2\n",
        "    return W1, b1, W2, b2"
      ],
      "metadata": {
        "id": "alsJnARin7YU"
      },
      "execution_count": 10,
      "outputs": []
    },
    {
      "cell_type": "code",
      "source": [
        "def get_predictions(A2):\n",
        "    return np.argmax(A2, 0)\n",
        "\n",
        "def get_accuracy(predictions, Y):\n",
        "    print(predictions, Y)\n",
        "    return np.sum(predictions == Y) / Y.size\n",
        "\n",
        "def gradient_descent(X, Y, alpha, iterations):\n",
        "    W1, b1, W2, b2 = init_params()\n",
        "    for i in range(iterations):\n",
        "        Z1, A1, Z2, A2 = forward_prop(W1, b1, W2, b2, X)\n",
        "        dW1, db1, dW2, db2 = backward_prop(Z1, A1, Z2, A2, W1, W2, X, Y)\n",
        "        W1, b1, W2, b2 = update_params(W1, b1, W2, b2, dW1, db1, dW2, db2, alpha)\n",
        "        if i % 10 == 0:\n",
        "            print(\"Iteration: \", i)\n",
        "            predictions = get_predictions(A2)\n",
        "            print(get_accuracy(predictions, Y))\n",
        "    return W1, b1, W2, b2"
      ],
      "metadata": {
        "id": "E02cYHMUn_E0"
      },
      "execution_count": 11,
      "outputs": []
    },
    {
      "cell_type": "code",
      "source": [
        "W1, b1, W2, b2 = gradient_descent(X_train, Y_train, 0.10, 550)"
      ],
      "metadata": {
        "colab": {
          "base_uri": "https://localhost:8080/"
        },
        "id": "wiyQOaHqoDSu",
        "outputId": "bda698ab-b801-498d-e9aa-673e52622119"
      },
      "execution_count": 12,
      "outputs": [
        {
          "output_type": "stream",
          "name": "stdout",
          "text": [
            "Iteration:  0\n",
            "[8 6 1 ... 0 6 1] [7 0 1 ... 9 7 5]\n",
            "0.09058536585365853\n",
            "Iteration:  10\n",
            "[7 0 1 ... 0 7 8] [7 0 1 ... 9 7 5]\n",
            "0.4153414634146341\n",
            "Iteration:  20\n",
            "[7 0 1 ... 0 7 8] [7 0 1 ... 9 7 5]\n",
            "0.47978048780487803\n",
            "Iteration:  30\n",
            "[7 0 1 ... 0 7 0] [7 0 1 ... 9 7 5]\n",
            "0.48785365853658536\n",
            "Iteration:  40\n",
            "[7 0 1 ... 7 7 0] [7 0 1 ... 9 7 5]\n",
            "0.521829268292683\n",
            "Iteration:  50\n",
            "[7 0 1 ... 7 7 3] [7 0 1 ... 9 7 5]\n",
            "0.5942195121951219\n",
            "Iteration:  60\n",
            "[7 0 1 ... 7 7 3] [7 0 1 ... 9 7 5]\n",
            "0.6545121951219512\n",
            "Iteration:  70\n",
            "[7 0 1 ... 9 7 3] [7 0 1 ... 9 7 5]\n",
            "0.6947073170731707\n",
            "Iteration:  80\n",
            "[7 0 1 ... 9 7 3] [7 0 1 ... 9 7 5]\n",
            "0.7305365853658536\n",
            "Iteration:  90\n",
            "[7 0 1 ... 9 7 3] [7 0 1 ... 9 7 5]\n",
            "0.7631219512195122\n",
            "Iteration:  100\n",
            "[7 0 1 ... 9 7 3] [7 0 1 ... 9 7 5]\n",
            "0.7848780487804878\n",
            "Iteration:  110\n",
            "[7 0 1 ... 9 7 3] [7 0 1 ... 9 7 5]\n",
            "0.8024634146341464\n",
            "Iteration:  120\n",
            "[7 0 1 ... 9 7 3] [7 0 1 ... 9 7 5]\n",
            "0.8162682926829268\n",
            "Iteration:  130\n",
            "[7 0 1 ... 9 7 3] [7 0 1 ... 9 7 5]\n",
            "0.8279268292682926\n",
            "Iteration:  140\n",
            "[7 0 1 ... 9 7 5] [7 0 1 ... 9 7 5]\n",
            "0.8365609756097561\n",
            "Iteration:  150\n",
            "[7 0 1 ... 9 7 5] [7 0 1 ... 9 7 5]\n",
            "0.8435121951219512\n",
            "Iteration:  160\n",
            "[7 0 1 ... 9 7 5] [7 0 1 ... 9 7 5]\n",
            "0.8504390243902439\n",
            "Iteration:  170\n",
            "[7 0 1 ... 9 7 5] [7 0 1 ... 9 7 5]\n",
            "0.8555609756097561\n",
            "Iteration:  180\n",
            "[7 0 1 ... 9 7 5] [7 0 1 ... 9 7 5]\n",
            "0.8606585365853658\n",
            "Iteration:  190\n",
            "[7 0 1 ... 9 7 5] [7 0 1 ... 9 7 5]\n",
            "0.8650731707317073\n",
            "Iteration:  200\n",
            "[7 0 1 ... 9 7 5] [7 0 1 ... 9 7 5]\n",
            "0.8687073170731707\n",
            "Iteration:  210\n",
            "[7 0 1 ... 9 7 5] [7 0 1 ... 9 7 5]\n",
            "0.8724390243902439\n",
            "Iteration:  220\n",
            "[7 0 1 ... 9 7 5] [7 0 1 ... 9 7 5]\n",
            "0.8747560975609756\n",
            "Iteration:  230\n",
            "[7 0 1 ... 9 7 5] [7 0 1 ... 9 7 5]\n",
            "0.8773170731707317\n",
            "Iteration:  240\n",
            "[7 0 1 ... 9 7 5] [7 0 1 ... 9 7 5]\n",
            "0.8795853658536585\n",
            "Iteration:  250\n",
            "[7 0 1 ... 9 7 5] [7 0 1 ... 9 7 5]\n",
            "0.8814634146341463\n",
            "Iteration:  260\n",
            "[7 0 1 ... 9 7 5] [7 0 1 ... 9 7 5]\n",
            "0.8834878048780488\n",
            "Iteration:  270\n",
            "[7 0 1 ... 9 7 5] [7 0 1 ... 9 7 5]\n",
            "0.885219512195122\n",
            "Iteration:  280\n",
            "[7 0 1 ... 9 7 5] [7 0 1 ... 9 7 5]\n",
            "0.8871707317073171\n",
            "Iteration:  290\n",
            "[7 0 1 ... 9 7 5] [7 0 1 ... 9 7 5]\n",
            "0.8890731707317073\n",
            "Iteration:  300\n",
            "[7 0 1 ... 9 7 5] [7 0 1 ... 9 7 5]\n",
            "0.8904634146341464\n",
            "Iteration:  310\n",
            "[7 0 1 ... 9 7 5] [7 0 1 ... 9 7 5]\n",
            "0.8917317073170732\n",
            "Iteration:  320\n",
            "[7 0 1 ... 9 7 5] [7 0 1 ... 9 7 5]\n",
            "0.8928292682926829\n",
            "Iteration:  330\n",
            "[7 0 1 ... 9 7 5] [7 0 1 ... 9 7 5]\n",
            "0.8937560975609756\n",
            "Iteration:  340\n",
            "[7 0 1 ... 9 7 5] [7 0 1 ... 9 7 5]\n",
            "0.8947804878048781\n",
            "Iteration:  350\n",
            "[7 0 1 ... 9 7 5] [7 0 1 ... 9 7 5]\n",
            "0.8959756097560976\n",
            "Iteration:  360\n",
            "[7 0 1 ... 9 7 5] [7 0 1 ... 9 7 5]\n",
            "0.8967560975609756\n",
            "Iteration:  370\n",
            "[7 0 1 ... 9 7 5] [7 0 1 ... 9 7 5]\n",
            "0.8975121951219512\n",
            "Iteration:  380\n",
            "[7 0 1 ... 9 7 5] [7 0 1 ... 9 7 5]\n",
            "0.8982682926829268\n",
            "Iteration:  390\n",
            "[7 0 1 ... 9 7 5] [7 0 1 ... 9 7 5]\n",
            "0.8990487804878049\n",
            "Iteration:  400\n",
            "[7 0 1 ... 9 7 5] [7 0 1 ... 9 7 5]\n",
            "0.8998780487804878\n",
            "Iteration:  410\n",
            "[7 0 1 ... 9 7 5] [7 0 1 ... 9 7 5]\n",
            "0.9006341463414634\n",
            "Iteration:  420\n",
            "[7 0 1 ... 9 7 5] [7 0 1 ... 9 7 5]\n",
            "0.9013170731707317\n",
            "Iteration:  430\n",
            "[7 0 1 ... 9 7 5] [7 0 1 ... 9 7 5]\n",
            "0.9018536585365854\n",
            "Iteration:  440\n",
            "[7 0 1 ... 9 7 5] [7 0 1 ... 9 7 5]\n",
            "0.9025609756097561\n",
            "Iteration:  450\n",
            "[7 0 1 ... 9 7 5] [7 0 1 ... 9 7 5]\n",
            "0.9031951219512195\n",
            "Iteration:  460\n",
            "[7 0 1 ... 9 7 5] [7 0 1 ... 9 7 5]\n",
            "0.9036829268292683\n",
            "Iteration:  470\n",
            "[7 0 1 ... 9 7 5] [7 0 1 ... 9 7 5]\n",
            "0.904219512195122\n",
            "Iteration:  480\n",
            "[7 0 1 ... 9 7 5] [7 0 1 ... 9 7 5]\n",
            "0.9048536585365854\n",
            "Iteration:  490\n",
            "[7 0 1 ... 9 7 5] [7 0 1 ... 9 7 5]\n",
            "0.9053658536585366\n",
            "Iteration:  500\n",
            "[7 0 1 ... 9 7 5] [7 0 1 ... 9 7 5]\n",
            "0.9058536585365854\n",
            "Iteration:  510\n",
            "[7 0 1 ... 9 7 5] [7 0 1 ... 9 7 5]\n",
            "0.9064146341463415\n",
            "Iteration:  520\n",
            "[7 0 1 ... 9 7 5] [7 0 1 ... 9 7 5]\n",
            "0.9068536585365854\n",
            "Iteration:  530\n",
            "[7 0 1 ... 9 7 5] [7 0 1 ... 9 7 5]\n",
            "0.9074878048780488\n",
            "Iteration:  540\n",
            "[7 0 1 ... 9 7 5] [7 0 1 ... 9 7 5]\n",
            "0.9081707317073171\n"
          ]
        }
      ]
    },
    {
      "cell_type": "code",
      "source": [
        "def make_predictions(X, W1, b1, W2, b2):\n",
        "    _, _, _, A2 = forward_prop(W1, b1, W2, b2, X)\n",
        "    predictions = get_predictions(A2)\n",
        "    return predictions\n",
        "\n",
        "def test_prediction(index, W1, b1, W2, b2):\n",
        "    current_image = X_train[:, index, None]\n",
        "    prediction = make_predictions(X_train[:, index, None], W1, b1, W2, b2)\n",
        "    label = Y_train[index]\n",
        "    print(\"Prediction: \", prediction)\n",
        "    print(\"Label: \", label)\n",
        "\n",
        "    current_image = current_image.reshape((28, 28)) * 255\n",
        "    plt.gray()\n",
        "    plt.imshow(current_image, interpolation='nearest')\n",
        "    plt.show()"
      ],
      "metadata": {
        "id": "jUU3qSQDpraB"
      },
      "execution_count": 13,
      "outputs": []
    },
    {
      "cell_type": "code",
      "source": [
        "\n",
        "def sgd_optimizer(X, Y, alpha, iterations):\n",
        "    W1, b1, W2, b2 = init_params()\n",
        "    for i in range(iterations):\n",
        "        Z1, A1, Z2, A2 = forward_prop(W1, b1, W2, b2, X)\n",
        "        dW1, db1, dW2, db2 = backward_prop(Z1, A1, Z2, A2, W1, W2, X, Y)\n",
        "        W1, b1, W2, b2 = update_params(W1, b1, W2, b2, dW1, db1, dW2, db2, alpha)\n",
        "        if i % 10 == 0:\n",
        "            predictions = get_predictions(A2)\n",
        "            print(f\"SGD Iteration {i}, Accuracy: {get_accuracy(predictions, Y)}\")\n",
        "    return W1, b1, W2, b2"
      ],
      "metadata": {
        "id": "y3xvwxLNpvp7"
      },
      "execution_count": 14,
      "outputs": []
    },
    {
      "cell_type": "code",
      "source": [
        "print(\"Training with SGD...\")\n",
        "W1_sgd, b1_sgd, W2_sgd, b2_sgd = sgd_optimizer(X_train, Y_train, 0.1, 550)"
      ],
      "metadata": {
        "colab": {
          "base_uri": "https://localhost:8080/"
        },
        "id": "1Sj6uA3Wpreo",
        "outputId": "b847d67d-18e6-4d0a-adc7-c3550a72214b"
      },
      "execution_count": 15,
      "outputs": [
        {
          "output_type": "stream",
          "name": "stdout",
          "text": [
            "Training with SGD...\n",
            "[0 0 2 ... 3 3 3] [7 0 1 ... 9 7 5]\n",
            "SGD Iteration 0, Accuracy: 0.11070731707317073\n",
            "[7 0 1 ... 3 7 3] [7 0 1 ... 9 7 5]\n",
            "SGD Iteration 10, Accuracy: 0.40653658536585363\n",
            "[7 0 1 ... 3 7 3] [7 0 1 ... 9 7 5]\n",
            "SGD Iteration 20, Accuracy: 0.5209756097560976\n",
            "[7 0 1 ... 3 7 3] [7 0 1 ... 9 7 5]\n",
            "SGD Iteration 30, Accuracy: 0.5609268292682927\n",
            "[7 0 1 ... 9 7 3] [7 0 1 ... 9 7 5]\n",
            "SGD Iteration 40, Accuracy: 0.5845365853658536\n",
            "[7 0 1 ... 9 7 3] [7 0 1 ... 9 7 5]\n",
            "SGD Iteration 50, Accuracy: 0.6255121951219512\n",
            "[7 0 1 ... 9 7 3] [7 0 1 ... 9 7 5]\n",
            "SGD Iteration 60, Accuracy: 0.6702439024390244\n",
            "[7 0 1 ... 9 7 3] [7 0 1 ... 9 7 5]\n",
            "SGD Iteration 70, Accuracy: 0.6974146341463414\n",
            "[7 0 1 ... 9 7 3] [7 0 1 ... 9 7 5]\n",
            "SGD Iteration 80, Accuracy: 0.7276585365853658\n",
            "[7 0 1 ... 9 7 3] [7 0 1 ... 9 7 5]\n",
            "SGD Iteration 90, Accuracy: 0.7622439024390244\n",
            "[7 0 1 ... 9 7 3] [7 0 1 ... 9 7 5]\n",
            "SGD Iteration 100, Accuracy: 0.7869024390243903\n",
            "[7 0 1 ... 9 7 3] [7 0 1 ... 9 7 5]\n",
            "SGD Iteration 110, Accuracy: 0.8065121951219513\n",
            "[7 0 1 ... 9 7 3] [7 0 1 ... 9 7 5]\n",
            "SGD Iteration 120, Accuracy: 0.8204146341463414\n",
            "[7 0 1 ... 9 7 3] [7 0 1 ... 9 7 5]\n",
            "SGD Iteration 130, Accuracy: 0.8304146341463414\n",
            "[7 0 1 ... 9 7 3] [7 0 1 ... 9 7 5]\n",
            "SGD Iteration 140, Accuracy: 0.8380487804878048\n",
            "[7 0 1 ... 9 7 5] [7 0 1 ... 9 7 5]\n",
            "SGD Iteration 150, Accuracy: 0.845170731707317\n",
            "[7 0 1 ... 9 7 5] [7 0 1 ... 9 7 5]\n",
            "SGD Iteration 160, Accuracy: 0.8517073170731707\n",
            "[7 0 1 ... 9 7 5] [7 0 1 ... 9 7 5]\n",
            "SGD Iteration 170, Accuracy: 0.8570731707317073\n",
            "[7 0 1 ... 9 7 5] [7 0 1 ... 9 7 5]\n",
            "SGD Iteration 180, Accuracy: 0.8623170731707317\n",
            "[7 0 1 ... 9 7 5] [7 0 1 ... 9 7 5]\n",
            "SGD Iteration 190, Accuracy: 0.8664390243902439\n",
            "[7 0 1 ... 9 7 5] [7 0 1 ... 9 7 5]\n",
            "SGD Iteration 200, Accuracy: 0.8700975609756098\n",
            "[7 0 1 ... 9 7 5] [7 0 1 ... 9 7 5]\n",
            "SGD Iteration 210, Accuracy: 0.8728780487804878\n",
            "[7 0 1 ... 9 7 5] [7 0 1 ... 9 7 5]\n",
            "SGD Iteration 220, Accuracy: 0.8757073170731707\n",
            "[7 0 1 ... 9 7 5] [7 0 1 ... 9 7 5]\n",
            "SGD Iteration 230, Accuracy: 0.8783658536585366\n",
            "[7 0 1 ... 9 7 5] [7 0 1 ... 9 7 5]\n",
            "SGD Iteration 240, Accuracy: 0.8804878048780488\n",
            "[7 0 1 ... 9 7 5] [7 0 1 ... 9 7 5]\n",
            "SGD Iteration 250, Accuracy: 0.8825365853658537\n",
            "[7 0 1 ... 9 7 5] [7 0 1 ... 9 7 5]\n",
            "SGD Iteration 260, Accuracy: 0.8843658536585366\n",
            "[7 0 1 ... 9 7 5] [7 0 1 ... 9 7 5]\n",
            "SGD Iteration 270, Accuracy: 0.8864634146341464\n",
            "[7 0 1 ... 9 7 5] [7 0 1 ... 9 7 5]\n",
            "SGD Iteration 280, Accuracy: 0.8880243902439025\n",
            "[7 0 1 ... 9 7 5] [7 0 1 ... 9 7 5]\n",
            "SGD Iteration 290, Accuracy: 0.8895609756097561\n",
            "[7 0 1 ... 9 7 5] [7 0 1 ... 9 7 5]\n",
            "SGD Iteration 300, Accuracy: 0.8908536585365854\n",
            "[7 0 1 ... 9 7 5] [7 0 1 ... 9 7 5]\n",
            "SGD Iteration 310, Accuracy: 0.892\n",
            "[7 0 1 ... 9 7 5] [7 0 1 ... 9 7 5]\n",
            "SGD Iteration 320, Accuracy: 0.8930975609756098\n",
            "[7 0 1 ... 9 7 5] [7 0 1 ... 9 7 5]\n",
            "SGD Iteration 330, Accuracy: 0.8940487804878049\n",
            "[7 0 1 ... 9 7 5] [7 0 1 ... 9 7 5]\n",
            "SGD Iteration 340, Accuracy: 0.8952926829268293\n",
            "[7 0 1 ... 9 7 5] [7 0 1 ... 9 7 5]\n",
            "SGD Iteration 350, Accuracy: 0.8958780487804878\n",
            "[7 0 1 ... 9 7 5] [7 0 1 ... 9 7 5]\n",
            "SGD Iteration 360, Accuracy: 0.8968780487804878\n",
            "[7 0 1 ... 9 7 5] [7 0 1 ... 9 7 5]\n",
            "SGD Iteration 370, Accuracy: 0.8978536585365854\n",
            "[7 0 1 ... 9 7 5] [7 0 1 ... 9 7 5]\n",
            "SGD Iteration 380, Accuracy: 0.8987073170731708\n",
            "[7 0 1 ... 9 7 5] [7 0 1 ... 9 7 5]\n",
            "SGD Iteration 390, Accuracy: 0.8994878048780488\n",
            "[7 0 1 ... 9 7 5] [7 0 1 ... 9 7 5]\n",
            "SGD Iteration 400, Accuracy: 0.9\n",
            "[7 0 1 ... 9 7 5] [7 0 1 ... 9 7 5]\n",
            "SGD Iteration 410, Accuracy: 0.900609756097561\n",
            "[7 0 1 ... 9 7 5] [7 0 1 ... 9 7 5]\n",
            "SGD Iteration 420, Accuracy: 0.901390243902439\n",
            "[7 0 1 ... 9 7 5] [7 0 1 ... 9 7 5]\n",
            "SGD Iteration 430, Accuracy: 0.9019756097560976\n",
            "[7 0 1 ... 9 7 5] [7 0 1 ... 9 7 5]\n",
            "SGD Iteration 440, Accuracy: 0.9025853658536586\n",
            "[7 0 1 ... 9 7 5] [7 0 1 ... 9 7 5]\n",
            "SGD Iteration 450, Accuracy: 0.9031951219512195\n",
            "[7 0 1 ... 9 7 5] [7 0 1 ... 9 7 5]\n",
            "SGD Iteration 460, Accuracy: 0.9038048780487805\n",
            "[7 0 1 ... 9 7 5] [7 0 1 ... 9 7 5]\n",
            "SGD Iteration 470, Accuracy: 0.904390243902439\n",
            "[7 0 1 ... 9 7 5] [7 0 1 ... 9 7 5]\n",
            "SGD Iteration 480, Accuracy: 0.9049756097560976\n",
            "[7 0 1 ... 9 7 5] [7 0 1 ... 9 7 5]\n",
            "SGD Iteration 490, Accuracy: 0.9054878048780488\n",
            "[7 0 1 ... 9 7 5] [7 0 1 ... 9 7 5]\n",
            "SGD Iteration 500, Accuracy: 0.9059024390243903\n",
            "[7 0 1 ... 9 7 5] [7 0 1 ... 9 7 5]\n",
            "SGD Iteration 510, Accuracy: 0.9065121951219512\n",
            "[7 0 1 ... 9 7 5] [7 0 1 ... 9 7 5]\n",
            "SGD Iteration 520, Accuracy: 0.9069512195121952\n",
            "[7 0 1 ... 9 7 5] [7 0 1 ... 9 7 5]\n",
            "SGD Iteration 530, Accuracy: 0.9076585365853659\n",
            "[7 0 1 ... 9 7 5] [7 0 1 ... 9 7 5]\n",
            "SGD Iteration 540, Accuracy: 0.9084878048780488\n"
          ]
        }
      ]
    },
    {
      "cell_type": "code",
      "source": [
        "def adam_optimizer(X, Y, alpha=0.001, beta1=0.9, beta2=0.999, epsilon=1e-8, iterations=550):\n",
        "    W1, b1, W2, b2 = init_params()\n",
        "\n",
        "    mW1 = np.zeros_like(W1)\n",
        "    mb1 = np.zeros_like(b1)\n",
        "    mW2 = np.zeros_like(W2)\n",
        "    mb2 = np.zeros_like(b2)\n",
        "\n",
        "    vW1 = np.zeros_like(W1)\n",
        "    vb1 = np.zeros_like(b1)\n",
        "    vW2 = np.zeros_like(W2)\n",
        "    vb2 = np.zeros_like(b2)\n",
        "\n",
        "    t = 0\n",
        "\n",
        "    for i in range(iterations):\n",
        "        t += 1\n",
        "        Z1, A1, Z2, A2 = forward_prop(W1, b1, W2, b2, X)\n",
        "        dW1, db1, dW2, db2 = backward_prop(Z1, A1, Z2, A2, W1, W2, X, Y)\n",
        "\n",
        "        mW1 = beta1 * mW1 + (1 - beta1) * dW1\n",
        "        mb1 = beta1 * mb1 + (1 - beta1) * db1\n",
        "        mW2 = beta1 * mW2 + (1 - beta1) * dW2\n",
        "        mb2 = beta1 * mb2 + (1 - beta1) * db2\n",
        "\n",
        "        vW1 = beta2 * vW1 + (1 - beta2) * (dW1 ** 2)\n",
        "        vb1 = beta2 * vb1 + (1 - beta2) * (db1 ** 2)\n",
        "        vW2 = beta2 * vW2 + (1 - beta2) * (dW2 ** 2)\n",
        "        vb2 = beta2 * vb2 + (1 - beta2) * (db2 ** 2)\n",
        "\n",
        "\n",
        "        mW1_hat = mW1 / (1 - beta1 ** t)\n",
        "        mb1_hat = mb1 / (1 - beta1 ** t)\n",
        "        mW2_hat = mW2 / (1 - beta1 ** t)\n",
        "        mb2_hat = mb2 / (1 - beta1 ** t)\n",
        "\n",
        "        vW1_hat = vW1 / (1 - beta2 ** t)\n",
        "        vb1_hat = vb1 / (1 - beta2 ** t)\n",
        "        vW2_hat = vW2 / (1 - beta2 ** t)\n",
        "        vb2_hat = vb2 / (1 - beta2 ** t)\n",
        "\n",
        "\n",
        "        W1 = W1 - alpha * mW1_hat / (np.sqrt(vW1_hat) + epsilon)\n",
        "        b1 = b1 - alpha * mb1_hat / (np.sqrt(vb1_hat) + epsilon)\n",
        "        W2 = W2 - alpha * mW2_hat / (np.sqrt(vW2_hat) + epsilon)\n",
        "        b2 = b2 - alpha * mb2_hat / (np.sqrt(vb2_hat) + epsilon)\n",
        "\n",
        "        if i % 10 == 0:\n",
        "            predictions = get_predictions(A2)\n",
        "            acc = get_accuracy(predictions, Y)\n",
        "            print(f\"Adam Iteration {i}, Accuracy: {acc:.4f}\")\n",
        "\n",
        "    return W1, b1, W2, b2"
      ],
      "metadata": {
        "id": "qB2cyCnKprja"
      },
      "execution_count": 16,
      "outputs": []
    },
    {
      "cell_type": "code",
      "source": [
        "print(\"Training with Adam...\")\n",
        "W1_adam, b1_adam, W2_adam, b2_adam = adam_optimizer(X_train, Y_train, alpha=0.001, iterations=500)"
      ],
      "metadata": {
        "colab": {
          "base_uri": "https://localhost:8080/"
        },
        "id": "IL-Gg5Xgprn_",
        "outputId": "8ddc7d4f-8191-47c7-d93e-8fccaef0aa14"
      },
      "execution_count": 17,
      "outputs": [
        {
          "output_type": "stream",
          "name": "stdout",
          "text": [
            "Training with Adam...\n",
            "[8 3 3 ... 3 8 8] [7 0 1 ... 9 7 5]\n",
            "Adam Iteration 0, Accuracy: 0.1037\n",
            "[7 0 1 ... 9 7 3] [7 0 1 ... 9 7 5]\n",
            "Adam Iteration 10, Accuracy: 0.6409\n",
            "[7 0 1 ... 9 7 3] [7 0 1 ... 9 7 5]\n",
            "Adam Iteration 20, Accuracy: 0.7400\n",
            "[7 0 1 ... 9 7 3] [7 0 1 ... 9 7 5]\n",
            "Adam Iteration 30, Accuracy: 0.8123\n",
            "[7 0 1 ... 9 7 5] [7 0 1 ... 9 7 5]\n",
            "Adam Iteration 40, Accuracy: 0.8398\n",
            "[7 0 1 ... 9 7 5] [7 0 1 ... 9 7 5]\n",
            "Adam Iteration 50, Accuracy: 0.8666\n",
            "[7 0 1 ... 9 7 5] [7 0 1 ... 9 7 5]\n",
            "Adam Iteration 60, Accuracy: 0.8841\n",
            "[7 0 1 ... 9 7 5] [7 0 1 ... 9 7 5]\n",
            "Adam Iteration 70, Accuracy: 0.8964\n",
            "[7 0 1 ... 9 7 5] [7 0 1 ... 9 7 5]\n",
            "Adam Iteration 80, Accuracy: 0.9040\n",
            "[7 0 1 ... 9 7 5] [7 0 1 ... 9 7 5]\n",
            "Adam Iteration 90, Accuracy: 0.9108\n",
            "[7 0 1 ... 9 7 5] [7 0 1 ... 9 7 5]\n",
            "Adam Iteration 100, Accuracy: 0.9163\n",
            "[7 0 1 ... 9 7 5] [7 0 1 ... 9 7 5]\n",
            "Adam Iteration 110, Accuracy: 0.9208\n",
            "[7 0 1 ... 9 7 5] [7 0 1 ... 9 7 5]\n",
            "Adam Iteration 120, Accuracy: 0.9251\n",
            "[7 0 1 ... 9 7 5] [7 0 1 ... 9 7 5]\n",
            "Adam Iteration 130, Accuracy: 0.9285\n",
            "[7 0 1 ... 9 7 5] [7 0 1 ... 9 7 5]\n",
            "Adam Iteration 140, Accuracy: 0.9317\n",
            "[7 0 1 ... 9 7 5] [7 0 1 ... 9 7 5]\n",
            "Adam Iteration 150, Accuracy: 0.9347\n",
            "[7 0 1 ... 9 7 5] [7 0 1 ... 9 7 5]\n",
            "Adam Iteration 160, Accuracy: 0.9371\n",
            "[7 0 1 ... 9 7 5] [7 0 1 ... 9 7 5]\n",
            "Adam Iteration 170, Accuracy: 0.9391\n",
            "[7 0 1 ... 9 7 5] [7 0 1 ... 9 7 5]\n",
            "Adam Iteration 180, Accuracy: 0.9415\n",
            "[7 0 1 ... 9 7 5] [7 0 1 ... 9 7 5]\n",
            "Adam Iteration 190, Accuracy: 0.9441\n",
            "[7 0 1 ... 9 7 5] [7 0 1 ... 9 7 5]\n",
            "Adam Iteration 200, Accuracy: 0.9461\n",
            "[7 0 1 ... 9 7 5] [7 0 1 ... 9 7 5]\n",
            "Adam Iteration 210, Accuracy: 0.9477\n",
            "[7 0 1 ... 9 7 5] [7 0 1 ... 9 7 5]\n",
            "Adam Iteration 220, Accuracy: 0.9500\n",
            "[7 0 1 ... 9 7 5] [7 0 1 ... 9 7 5]\n",
            "Adam Iteration 230, Accuracy: 0.9512\n",
            "[7 0 1 ... 9 7 5] [7 0 1 ... 9 7 5]\n",
            "Adam Iteration 240, Accuracy: 0.9531\n",
            "[7 0 1 ... 9 7 5] [7 0 1 ... 9 7 5]\n",
            "Adam Iteration 250, Accuracy: 0.9545\n",
            "[7 0 1 ... 9 7 5] [7 0 1 ... 9 7 5]\n",
            "Adam Iteration 260, Accuracy: 0.9565\n",
            "[7 0 1 ... 9 7 5] [7 0 1 ... 9 7 5]\n",
            "Adam Iteration 270, Accuracy: 0.9581\n",
            "[7 0 1 ... 9 7 5] [7 0 1 ... 9 7 5]\n",
            "Adam Iteration 280, Accuracy: 0.9595\n",
            "[7 0 1 ... 9 7 5] [7 0 1 ... 9 7 5]\n",
            "Adam Iteration 290, Accuracy: 0.9609\n",
            "[7 0 1 ... 9 7 5] [7 0 1 ... 9 7 5]\n",
            "Adam Iteration 300, Accuracy: 0.9627\n",
            "[7 0 1 ... 9 7 5] [7 0 1 ... 9 7 5]\n",
            "Adam Iteration 310, Accuracy: 0.9640\n",
            "[7 0 1 ... 9 7 5] [7 0 1 ... 9 7 5]\n",
            "Adam Iteration 320, Accuracy: 0.9656\n",
            "[7 0 1 ... 9 7 5] [7 0 1 ... 9 7 5]\n",
            "Adam Iteration 330, Accuracy: 0.9669\n",
            "[7 0 1 ... 9 7 5] [7 0 1 ... 9 7 5]\n",
            "Adam Iteration 340, Accuracy: 0.9680\n",
            "[7 0 1 ... 9 7 5] [7 0 1 ... 9 7 5]\n",
            "Adam Iteration 350, Accuracy: 0.9689\n",
            "[7 0 1 ... 9 7 5] [7 0 1 ... 9 7 5]\n",
            "Adam Iteration 360, Accuracy: 0.9701\n",
            "[7 0 1 ... 9 7 5] [7 0 1 ... 9 7 5]\n",
            "Adam Iteration 370, Accuracy: 0.9711\n",
            "[7 0 1 ... 9 7 5] [7 0 1 ... 9 7 5]\n",
            "Adam Iteration 380, Accuracy: 0.9721\n",
            "[7 0 1 ... 9 7 5] [7 0 1 ... 9 7 5]\n",
            "Adam Iteration 390, Accuracy: 0.9732\n",
            "[7 0 1 ... 9 7 5] [7 0 1 ... 9 7 5]\n",
            "Adam Iteration 400, Accuracy: 0.9740\n",
            "[7 0 1 ... 9 7 5] [7 0 1 ... 9 7 5]\n",
            "Adam Iteration 410, Accuracy: 0.9751\n",
            "[7 0 1 ... 9 7 5] [7 0 1 ... 9 7 5]\n",
            "Adam Iteration 420, Accuracy: 0.9757\n",
            "[7 0 1 ... 9 7 5] [7 0 1 ... 9 7 5]\n",
            "Adam Iteration 430, Accuracy: 0.9765\n",
            "[7 0 1 ... 9 7 5] [7 0 1 ... 9 7 5]\n",
            "Adam Iteration 440, Accuracy: 0.9776\n",
            "[7 0 1 ... 9 7 5] [7 0 1 ... 9 7 5]\n",
            "Adam Iteration 450, Accuracy: 0.9785\n",
            "[7 0 1 ... 9 7 5] [7 0 1 ... 9 7 5]\n",
            "Adam Iteration 460, Accuracy: 0.9793\n",
            "[7 0 1 ... 9 7 5] [7 0 1 ... 9 7 5]\n",
            "Adam Iteration 470, Accuracy: 0.9799\n",
            "[7 0 1 ... 9 7 5] [7 0 1 ... 9 7 5]\n",
            "Adam Iteration 480, Accuracy: 0.9805\n",
            "[7 0 1 ... 9 7 5] [7 0 1 ... 9 7 5]\n",
            "Adam Iteration 490, Accuracy: 0.9809\n"
          ]
        }
      ]
    },
    {
      "cell_type": "code",
      "source": [
        "test_prediction(0, W1, b1, W2, b2)\n",
        "test_prediction(1, W1, b1, W2, b2)\n",
        "test_prediction(2, W1, b1, W2, b2)\n",
        "test_prediction(3, W1, b1, W2, b2)\n",
        "test_prediction(4, W1, b1, W2, b2)\n",
        "test_prediction(5, W1, b1, W2, b2)\n",
        "test_prediction(6, W1, b1, W2, b2)\n",
        "test_prediction(7, W1, b1, W2, b2)\n",
        "test_prediction(8, W1, b1, W2, b2)\n",
        "test_prediction(9, W1, b1, W2, b2)"
      ],
      "metadata": {
        "colab": {
          "base_uri": "https://localhost:8080/",
          "height": 1000
        },
        "id": "5ZsfewqNtPdb",
        "outputId": "c52f6506-de9b-4099-f4a1-de0fe5ea3d5a"
      },
      "execution_count": 35,
      "outputs": [
        {
          "output_type": "stream",
          "name": "stdout",
          "text": [
            "Prediction:  [7]\n",
            "Label:  7\n"
          ]
        },
        {
          "output_type": "display_data",
          "data": {
            "text/plain": [
              "<Figure size 640x480 with 1 Axes>"
            ],
            "image/png": "[encoded data removed]"
          },
          "metadata": {}
        },
        {
          "output_type": "stream",
          "name": "stdout",
          "text": [
            "Prediction:  [0]\n",
            "Label:  0\n"
          ]
        },
        {
          "output_type": "display_data",
          "data": {
            "text/plain": [
              "<Figure size 640x480 with 1 Axes>"
            ],
            "image/png": "[encoded data removed]"
          },
          "metadata": {}
        },
        {
          "output_type": "stream",
          "name": "stdout",
          "text": [
            "Prediction:  [1]\n",
            "Label:  1\n"
          ]
        },
        {
          "output_type": "display_data",
          "data": {
            "text/plain": [
              "<Figure size 640x480 with 1 Axes>"
            ],
            "image/png": "[encoded data removed]"
          },
          "metadata": {}
        },
        {
          "output_type": "stream",
          "name": "stdout",
          "text": [
            "Prediction:  [5]\n",
            "Label:  0\n"
          ]
        },
        {
          "output_type": "display_data",
          "data": {
            "text/plain": [
              "<Figure size 640x480 with 1 Axes>"
            ],
            "image/png": "[encoded data removed]"
          },
          "metadata": {}
        },
        {
          "output_type": "stream",
          "name": "stdout",
          "text": [
            "Prediction:  [1]\n",
            "Label:  1\n"
          ]
        },
        {
          "output_type": "display_data",
          "data": {
            "text/plain": [
              "<Figure size 640x480 with 1 Axes>"
            ],
            "image/png": "[encoded data removed]"
          },
          "metadata": {}
        },
        {
          "output_type": "stream",
          "name": "stdout",
          "text": [
            "Prediction:  [6]\n",
            "Label:  6\n"
          ]
        },
        {
          "output_type": "display_data",
          "data": {
            "text/plain": [
              "<Figure size 640x480 with 1 Axes>"
            ],
            "image/png": "[encoded data removed]"
          },
          "metadata": {}
        },
        {
          "output_type": "stream",
          "name": "stdout",
          "text": [
            "Prediction:  [9]\n",
            "Label:  9\n"
          ]
        },
        {
          "output_type": "display_data",
          "data": {
            "text/plain": [
              "<Figure size 640x480 with 1 Axes>"
            ],
            "image/png": "[encoded data removed]"
          },
          "metadata": {}
        },
        {
          "output_type": "stream",
          "name": "stdout",
          "text": [
            "Prediction:  [5]\n",
            "Label:  5\n"
          ]
        },
        {
          "output_type": "display_data",
          "data": {
            "text/plain": [
              "<Figure size 640x480 with 1 Axes>"
            ],
            "image/png": "[encoded data removed]"
          },
          "metadata": {}
        },
        {
          "output_type": "stream",
          "name": "stdout",
          "text": [
            "Prediction:  [8]\n",
            "Label:  8\n"
          ]
        },
        {
          "output_type": "display_data",
          "data": {
            "text/plain": [
              "<Figure size 640x480 with 1 Axes>"
            ],
            "image/png": "[encoded data removed]"
          },
          "metadata": {}
        },
        {
          "output_type": "stream",
          "name": "stdout",
          "text": [
            "Prediction:  [3]\n",
            "Label:  3\n"
          ]
        },
        {
          "output_type": "display_data",
          "data": {
            "text/plain": [
              "<Figure size 640x480 with 1 Axes>"
            ],
            "image/png": "[encoded data removed]"
          },
          "metadata": {}
        }
      ]
    },
    {
      "cell_type": "code",
      "source": [
        "dev_predictions = make_predictions(X_dev, W1, b1, W2, b2)\n",
        "get_accuracy(dev_predictions, Y_dev)"
      ],
      "metadata": {
        "colab": {
          "base_uri": "https://localhost:8080/"
        },
        "id": "dtCnBwbqthTo",
        "outputId": "9921c0c4-2f4c-4fc1-fe9a-798e3c00cd87"
      },
      "execution_count": 28,
      "outputs": [
        {
          "output_type": "stream",
          "name": "stdout",
          "text": [
            "[1 1 0 8 6 1 8 3 7 3 1 3 8 0 4 7 4 5 9 0 1 4 3 3 4 8 1 0 9 6 3 2 9 5 7 8 8\n",
            " 0 5 8 7 1 8 5 9 5 6 0 0 9 4 6 2 4 1 3 4 3 2 6 2 9 5 0 9 9 0 9 4 0 0 8 1 8\n",
            " 7 2 4 4 2 3 5 4 9 6 4 4 9 3 6 1 4 7 2 9 4 5 7 3 8 1 8 0 9 5 6 8 1 9 5 0 0\n",
            " 6 7 3 7 9 0 9 8 2 2 5 4 9 2 0 7 1 4 4 9 2 3 4 3 3 6 9 9 3 6 3 9 5 0 7 9 3\n",
            " 6 8 5 4 9 3 4 6 6 8 5 8 5 5 6 1 3 1 8 3 2 7 6 3 1 9 5 1 0 3 9 3 8 1 1 6 7\n",
            " 9 0 9 2 5 1 4 8 9 2 8 8 7 7 5 4 8 4 8 7 9 1 8 0 1 6 3 8 3 1 2 7 9 5 5 0 2\n",
            " 6 7 9 0 9 7 4 7 9 0 2 2 9 1 1 4 5 8 0 1 5 0 7 6 7 2 9 4 4 5 4 3 3 6 8 7 3\n",
            " 5 2 4 6 3 9 7 9 1 1 2 8 7 7 0 1 0 8 6 9 3 6 6 3 1 3 6 9 6 0 4 4 3 7 9 4 7\n",
            " 3 4 1 0 9 0 3 1 2 4 6 2 1 3 1 0 7 7 8 7 9 7 7 4 4 6 2 4 5 3 4 1 9 8 3 6 6\n",
            " 5 0 9 3 7 1 4 0 6 4 5 9 9 7 0 9 5 4 4 8 0 2 0 5 3 9 6 1 9 7 7 2 7 9 8 5 9\n",
            " 2 7 5 9 4 6 7 7 3 2 7 7 7 9 0 4 1 8 4 1 3 3 4 8 3 9 4 5 6 2 6 4 4 8 0 7 9\n",
            " 6 6 8 3 9 3 1 3 9 6 6 2 3 2 6 6 0 6 1 7 7 0 8 5 1 7 4 7 1 0 6 0 0 3 4 6 7\n",
            " 8 3 7 1 6 4 0 4 1 7 4 9 6 4 1 2 0 1 7 1 0 0 5 4 4 4 4 0 5 0 2 2 5 0 6 8 3\n",
            " 8 5 7 8 7 8 7 0 0 0 3 5 9 6 5 5 1 6 7 0 0 1 0 0 6 0 3 5 7 3 5 8 1 4 9 8 1\n",
            " 8 4 8 3 9 0 3 1 5 7 3 0 2 0 2 9 8 9 9 7 2 3 4 7 1 8 6 2 0 1 3 5 9 6 0 7 5\n",
            " 7 3 0 1 7 3 9 5 0 8 4 5 3 2 2 0 7 7 7 7 3 4 6 0 9 2 8 5 9 5 4 0 8 7 4 5 0\n",
            " 5 7 1 5 6 3 9 7 7 5 3 7 6 4 8 7 1 2 0 7 9 6 8 4 8 8 1 7 3 7 3 3 5 5 3 7 0\n",
            " 6 7 4 3 2 1 1 6 6 8 7 7 0 8 2 0 3 4 8 3 1 4 1 9 8 7 8 8 1 7 2 2 0 7 2 5 4\n",
            " 3 6 5 8 9 0 0 1 3 6 1 8 4 8 8 4 9 3 2 7 1 7 6 8 4 0 4 5 7 8 8 2 6 1 1 1 6\n",
            " 9 7 4 2 8 4 5 9 0 3 2 8 5 1 7 3 8 4 0 4 6 7 1 5 9 3 0 2 8 6 3 6 1 0 8 6 3\n",
            " 2 4 5 3 6 3 1 1 5 3 6 0 3 1 9 6 3 2 1 8 9 0 7 7 9 1 4 5 6 5 3 9 3 1 8 0 8\n",
            " 5 1 8 3 4 1 5 7 9 5 9 7 4 6 4 9 4 5 1 1 9 7 8 4 9 9 1 6 4 6 5 2 7 6 5 5 6\n",
            " 2 2 3 6 8 5 9 8 4 1 1 3 9 4 7 3 9 8 0 6 0 9 0 5 3 5 1 1 0 7 7 3 4 5 1 3 7\n",
            " 9 1 3 1 7 2 0 3 3 3 2 0 4 3 7 9 5 9 4 9 0 3 8 8 1 4 7 6 7 2 5 1 8 1 5 0 7\n",
            " 8 0 6 8 4 7 3 0 3 9 8 3 1 8 1 4 2 6 4 0 9 8 4 9 7 9 0 2 6 1 1 1 8 3 7 7 7\n",
            " 3 0 1 8 3 3 0 2 7 6 1 7 2 8 2 2 4 1 4 4 9 9 7 1 3 7 6 5 4 9 9 9 0 5 5 9 1\n",
            " 6 1 8 3 9 9 0 1 2 7 2 9 8 4 6 3 7 9 9 2 1 1 7 7 5 8 8 9 5 0 5 4 3 8 6 6 1\n",
            " 1] [1 1 0 8 6 1 8 3 7 3 1 3 8 0 4 7 4 5 9 0 1 4 5 3 4 8 1 0 9 6 3 2 9 5 7 8 8\n",
            " 0 5 8 7 1 8 5 9 5 6 0 0 9 4 6 2 4 1 3 9 3 2 6 2 9 5 0 4 9 0 3 4 0 6 8 1 8\n",
            " 7 2 4 4 2 3 5 4 9 6 4 4 3 3 6 1 4 7 3 9 4 9 7 3 4 1 8 0 9 5 6 8 1 9 5 0 0\n",
            " 6 7 5 7 5 0 9 8 2 2 5 4 8 2 0 7 1 4 4 9 2 5 4 3 3 2 9 9 3 6 3 9 5 0 3 9 5\n",
            " 6 8 5 8 9 3 9 6 6 8 5 8 5 5 6 1 3 1 3 0 2 7 6 9 1 9 1 1 0 3 9 3 5 1 5 2 7\n",
            " 9 0 4 2 5 1 4 8 9 2 8 8 7 7 5 4 8 4 8 7 9 1 1 0 1 0 3 2 5 1 2 7 9 5 5 0 2\n",
            " 6 9 9 0 9 7 4 2 9 0 2 2 9 1 1 4 5 8 0 1 5 0 7 6 7 2 9 4 4 5 4 3 3 6 8 7 3\n",
            " 8 2 4 6 3 9 7 9 1 1 2 8 7 7 0 1 0 8 6 9 2 6 2 3 1 3 6 8 6 0 4 4 3 9 9 4 7\n",
            " 8 1 1 0 3 0 3 1 2 4 6 2 1 3 1 0 7 7 8 7 9 7 7 4 4 6 2 4 5 3 4 1 9 8 3 6 6\n",
            " 5 0 9 3 7 1 4 0 6 4 5 9 9 7 0 9 5 4 9 8 0 2 0 1 3 9 6 1 9 7 7 2 2 9 8 5 9\n",
            " 2 9 0 9 4 5 7 7 3 2 7 7 9 9 0 4 1 8 2 1 3 3 4 8 3 7 4 8 6 2 6 4 9 2 0 7 9\n",
            " 6 6 6 8 9 3 1 3 9 6 6 2 8 2 6 6 0 8 1 7 7 0 8 5 8 7 4 7 1 0 6 0 0 3 6 6 7\n",
            " 2 3 7 1 6 4 0 4 1 7 4 9 6 4 1 2 0 1 7 1 0 0 5 4 4 4 4 0 5 0 2 2 5 6 6 6 2\n",
            " 8 5 7 8 7 8 7 0 0 0 3 5 7 6 5 5 1 6 7 0 0 1 0 0 6 0 3 7 7 3 5 8 1 4 9 8 1\n",
            " 8 7 8 3 9 0 3 1 5 7 3 0 2 0 2 9 8 8 7 7 2 3 4 2 1 2 6 2 0 1 3 5 9 6 0 7 5\n",
            " 7 3 0 1 7 3 9 5 0 8 4 3 3 2 4 9 7 7 7 7 5 4 1 0 9 2 8 3 7 3 4 0 8 7 4 5 0\n",
            " 5 7 1 5 6 3 9 7 7 5 3 7 6 4 8 7 1 2 0 7 9 6 8 4 8 8 1 9 3 7 3 3 5 5 2 7 0\n",
            " 6 4 4 3 2 1 1 6 6 8 3 7 0 8 2 0 5 5 8 3 1 4 1 9 8 7 8 8 2 7 2 2 0 7 2 5 4\n",
            " 2 6 3 8 9 0 0 7 3 6 1 8 4 8 8 4 9 3 2 7 1 3 6 8 4 0 4 5 7 8 8 2 6 1 1 1 4\n",
            " 9 2 4 2 8 9 5 9 0 3 2 8 5 5 7 3 8 4 0 4 6 7 1 5 9 3 0 2 8 6 3 6 1 4 8 2 3\n",
            " 2 4 5 5 6 1 1 1 5 3 6 0 3 1 9 2 3 2 1 8 2 2 7 7 9 1 4 5 6 5 1 9 2 1 2 0 8\n",
            " 5 1 8 3 9 1 5 7 9 5 9 7 4 6 4 9 4 5 1 7 9 2 8 4 9 9 5 6 4 6 5 2 7 6 5 5 6\n",
            " 2 8 3 6 8 5 9 2 4 1 1 3 9 4 7 3 9 8 0 4 0 9 0 5 3 5 6 1 0 7 7 3 4 5 1 3 7\n",
            " 9 1 8 1 7 2 9 3 9 3 2 0 2 3 7 9 5 9 4 9 0 2 8 8 1 4 7 6 7 2 3 1 3 1 5 0 7\n",
            " 8 0 6 8 4 7 3 0 3 9 8 3 1 8 1 4 2 6 4 0 9 8 4 9 7 9 0 2 6 1 1 1 8 3 7 7 7\n",
            " 3 0 1 3 3 3 0 2 7 6 1 7 2 8 2 2 4 1 4 4 9 9 7 1 3 7 6 5 4 9 9 9 0 5 5 9 1\n",
            " 6 1 8 3 9 9 0 1 2 7 2 9 8 4 4 5 7 9 9 2 1 1 7 2 5 8 8 9 6 0 5 4 3 8 6 6 1\n",
            " 1]\n"
          ]
        },
        {
          "output_type": "execute_result",
          "data": {
            "text/plain": [
              "np.float64(0.878)"
            ]
          },
          "metadata": {},
          "execution_count": 28
        }
      ]
    }
  ]
}